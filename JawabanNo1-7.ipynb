{
  "nbformat": 4,
  "nbformat_minor": 0,
  "metadata": {
    "colab": {
      "name": "Welcome To Colaboratory",
      "provenance": [],
      "collapsed_sections": [],
      "toc_visible": true
    },
    "kernelspec": {
      "display_name": "Python 3",
      "name": "python3"
    }
  },
  "cells": [
    {
      "cell_type": "markdown",
      "metadata": {
        "id": "R22nMb4TOYeS"
      },
      "source": [
        "Soal Nomor 1"
      ]
    },
    {
      "cell_type": "code",
      "metadata": {
        "colab": {
          "base_uri": "https://localhost:8080/"
        },
        "id": "Y4DP50AZ95My",
        "outputId": "697f7b4f-3939-4585-e807-0e2612fc3ae2"
      },
      "source": [
        "teks=input()\n",
        "for huruf in 'aiueoAIUEO':\n",
        "  teks = teks.replace(huruf, \"i\")\n",
        "print(teks)"
      ],
      "execution_count": 3,
      "outputs": [
        {
          "output_type": "stream",
          "text": [
            "jika input yang dimasukkan\n",
            "jiki inpit ying dimisikkin\n"
          ],
          "name": "stdout"
        }
      ]
    },
    {
      "cell_type": "markdown",
      "metadata": {
        "id": "EDcfG3CfObwf"
      },
      "source": [
        "Soal Nomor 2"
      ]
    },
    {
      "cell_type": "code",
      "metadata": {
        "colab": {
          "base_uri": "https://localhost:8080/"
        },
        "id": "b_NVyCrB-SK9",
        "outputId": "a3b55e6c-2e80-495e-de49-ea75ab73b2ad"
      },
      "source": [
        "nilaiRudisejarah=int(input(\"Masukan nilai Sejarah Rudi \"))\n",
        "nilaiRudimatematika=int(input(\"Masukan nilai Matematika Rudi \"))\n",
        "nilaiRudisosiologi=int(input(\"Masukan nilai Sosiologi Rudi \"))\n",
        "nilaiRudikwn=int(input(\"Masukan nilai KWN Rudi \"))\n",
        "nilaiAnisejarah=int(input(\"Masukan nilai Sejarah Ani \"))\n",
        "nilaiAnimatematika=int(input(\"Masukan nilai Matematika Ani \"))\n",
        "nilaiAnisosiologi=int(input(\"Masukan nilai Sosiologi Ani \"))\n",
        "nilaiAnikwn=int(input(\"Masukan nilai KWN Ani \"))\n",
        "counterRudi=0\n",
        "counterAni=0\n",
        "if nilaiRudisejarah>nilaiAnisejarah:\n",
        "  counterRudi+=1\n",
        "else:\n",
        "  counterAni+=1\n",
        "if nilaiRudimatematika>nilaiAnimatematika:\n",
        "  counterRudi+=1\n",
        "else:\n",
        "  counterAni+=1  \n",
        "if nilaiRudisosiologi>nilaiAnisosiologi:\n",
        "  counterRudi+=1\n",
        "else:\n",
        "  counterAni+=1\n",
        "if nilaiRudikwn>nilaiAnikwn:\n",
        "  counterRudi+=1\n",
        "else:\n",
        "  counterAni+=1\n",
        "print(\"[rudi => \"+str(counterRudi)+\", ani => \"+str(counterAni)+\"]\")"
      ],
      "execution_count": 47,
      "outputs": [
        {
          "output_type": "stream",
          "text": [
            "Masukan nilai Sejarah Rudi 70\n",
            "Masukan nilai Matematika Rudi 70\n",
            "Masukan nilai Sosiologi Rudi 70\n",
            "Masukan nilai KWN Rudi 70\n",
            "Masukan nilai Sejarah Ani 80\n",
            "Masukan nilai Matematika Ani 60\n",
            "Masukan nilai Sosiologi Ani 80\n",
            "Masukan nilai KWN Ani 60\n",
            "[rudi => 2, ani => 2]\n"
          ],
          "name": "stdout"
        }
      ]
    },
    {
      "cell_type": "markdown",
      "metadata": {
        "id": "ffIADl9TOeB1"
      },
      "source": [
        "Soal Nomor 3"
      ]
    },
    {
      "cell_type": "code",
      "metadata": {
        "colab": {
          "base_uri": "https://localhost:8080/"
        },
        "id": "Pi2qjG3T_B5e",
        "outputId": "248b9ca5-fe5e-4388-fe80-9237168e1446"
      },
      "source": [
        "def isPalindrome(s):\n",
        "    return s == s[::-1]\n",
        " \n",
        " \n",
        "# Driver code\n",
        "s = input(\"Masukkan Stringnya : \")\n",
        "ans = isPalindrome(s)\n",
        " \n",
        "if ans:\n",
        "    print(\"benar\")\n",
        "else:\n",
        "    print(\"salah\")"
      ],
      "execution_count": 11,
      "outputs": [
        {
          "output_type": "stream",
          "text": [
            "Masukkan Stringnya : kaca\n",
            "salah\n"
          ],
          "name": "stdout"
        }
      ]
    },
    {
      "cell_type": "markdown",
      "metadata": {
        "id": "JGuNpBpIOi3D"
      },
      "source": [
        "Soal Nomor 4"
      ]
    },
    {
      "cell_type": "code",
      "metadata": {
        "colab": {
          "base_uri": "https://localhost:8080/"
        },
        "id": "_jSXacoBA_js",
        "outputId": "d9fef795-08b1-408d-c9b7-15828df303ca"
      },
      "source": [
        "data=[23, 45, 67, 90, 23, 1, 6, 90, 12, 43, 90, 67]\n",
        "listbaru=list(dict.fromkeys(data))\n",
        "print(listbaru)"
      ],
      "execution_count": 17,
      "outputs": [
        {
          "output_type": "stream",
          "text": [
            "[23, 45, 67, 90, 1, 6, 12, 43]\n"
          ],
          "name": "stdout"
        }
      ]
    },
    {
      "cell_type": "markdown",
      "metadata": {
        "id": "KGKhfZH9OkkY"
      },
      "source": [
        "Soal Nomor 5"
      ]
    },
    {
      "cell_type": "code",
      "metadata": {
        "colab": {
          "base_uri": "https://localhost:8080/"
        },
        "id": "f2m0O6o0Bcgv",
        "outputId": "c298bb50-4de3-41f1-cb68-877219d42c6f"
      },
      "source": [
        "data= [4, 5, 8, 9, 0, 2, 8, 2, 11, 15, 2, 9, 0]\n",
        "listbaru=list(dict.fromkeys(data))\n",
        "sorted(listbaru)"
      ],
      "execution_count": 26,
      "outputs": [
        {
          "output_type": "execute_result",
          "data": {
            "text/plain": [
              "[0, 2, 4, 5, 8, 9, 11, 15]"
            ]
          },
          "metadata": {
            "tags": []
          },
          "execution_count": 26
        }
      ]
    },
    {
      "cell_type": "markdown",
      "metadata": {
        "id": "Aq75YndJOmNp"
      },
      "source": [
        "Soal Nomor 6"
      ]
    },
    {
      "cell_type": "code",
      "metadata": {
        "colab": {
          "base_uri": "https://localhost:8080/"
        },
        "id": "eGgfNa4eCy4-",
        "outputId": "ea42b4d5-5a4b-4467-ff9c-143d9b0201b6"
      },
      "source": [
        "listbaru=[\"1A\", \"2A\", \"3A\", \"4A\", \"5A\", \"6A\", \"7A\", \"8A\", \"9A\", \"10A\",\"1B\", \"2B\", \"3B\", \"4B\", \"5B\", \"6B\", \"7B\", \"8B\", \"9B\", \"10B\",\"1C\", \"2C\", \"3C\", \"4C\", \"5C\", \"6C\", \"7C\", \"8C\", \"9C\", \"10C\",\n",
        "    \"1D\", \"2D\", \"3D\", \"4D\", \"5D\", \"6D\", \"7D\", \"8D\", \"9D\", \"10D\",\n",
        "    \"1E\", \"2E\", \"3E\", \"4E\", \"5E\", \"6E\", \"7E\", \"8E\", \"9E\", \"10E\",\n",
        "    \"1F\", \"2F\", \"3F\", \"4F\", \"5F\", \"6F\", \"7F\", \"8F\", \"9F\", \"10F\",\n",
        "    \"1G\", \"2G\", \"3G\", \"4G\", \"5G\", \"6G\", \"7G\", \"8G\", \"9G\", \"10G\",\n",
        "    \"1H\", \"2H\", \"3H\", \"4H\", \"5H\", \"6H\", \"7H\", \"8H\", \"9H\", \"10H\",\n",
        "    \"1I\", \"2I\", \"3I\", \"4I\", \"5I\", \"6I\", \"7I\", \"8I\", \"9I\", \"10I\",\n",
        "    \"1J\", \"2J\", \"3J\", \"4J\", \"5J\", \"6J\", \"7J\", \"8J\", \"9J\", \"10J\"\n",
        "]\n",
        "inputan=input(\"Pilih kursi mana yang ingin dipesan \")\n",
        "for i in listbaru:\n",
        "  if i==inputan:\n",
        "    listbaru.remove(inputan)\n",
        "print(inputan+ \"- booked\")\n",
        "print(\"Sisa list yang tersedia : \")\n",
        "print(listbaru)"
      ],
      "execution_count": 46,
      "outputs": [
        {
          "output_type": "stream",
          "text": [
            "Pilih kursi mana yang ingin dipesan 1D\n",
            "1D- booked\n",
            "Sisa list yang tersedia : \n",
            "['1A', '2A', '3A', '4A', '5A', '6A', '7A', '8A', '9A', '10A', '1B', '2B', '3B', '4B', '5B', '6B', '7B', '8B', '9B', '10B', '1C', '2C', '3C', '4C', '5C', '6C', '7C', '8C', '9C', '10C', '2D', '3D', '4D', '5D', '6D', '7D', '8D', '9D', '10D', '1E', '2E', '3E', '4E', '5E', '6E', '7E', '8E', '9E', '10E', '1F', '2F', '3F', '4F', '5F', '6F', '7F', '8F', '9F', '10F', '1G', '2G', '3G', '4G', '5G', '6G', '7G', '8G', '9G', '10G', '1H', '2H', '3H', '4H', '5H', '6H', '7H', '8H', '9H', '10H', '1I', '2I', '3I', '4I', '5I', '6I', '7I', '8I', '9I', '10I', '1J', '2J', '3J', '4J', '5J', '6J', '7J', '8J', '9J', '10J']\n"
          ],
          "name": "stdout"
        }
      ]
    },
    {
      "cell_type": "markdown",
      "metadata": {
        "id": "YKCtMQfoOpf0"
      },
      "source": [
        "Soal Nomor 7"
      ]
    },
    {
      "cell_type": "code",
      "metadata": {
        "colab": {
          "base_uri": "https://localhost:8080/"
        },
        "id": "i474PkgxDkJQ",
        "outputId": "bb7905dc-4517-4ebd-c593-42d2da0fe83d"
      },
      "source": [
        "uang = int(input('masukan jumlah uang: '))\n",
        "uang_pecahan = [100000, 50000, 20000, 10000, 5000, 2000, 1000, 500, 200, 100]\n",
        "jumlah_pecahan = {}\n",
        "x=[]\n",
        "sisa = uang\n",
        "for pecahan in uang_pecahan:\n",
        "    if sisa < pecahan:\n",
        "        continue\n",
        "    banyak_pecahan = int(sisa / pecahan)\n",
        "    sisa = sisa - ( pecahan * banyak_pecahan )\n",
        "    x.append(pecahan)\n",
        "print(x)"
      ],
      "execution_count": 40,
      "outputs": [
        {
          "output_type": "stream",
          "text": [
            "masukan jumlah uang: 72500\n",
            "[50000, 20000, 2000, 500]\n"
          ],
          "name": "stdout"
        }
      ]
    },
    {
      "cell_type": "code",
      "metadata": {
        "id": "kNWQra7lDvzv"
      },
      "source": [
        ""
      ],
      "execution_count": null,
      "outputs": []
    }
  ]
}